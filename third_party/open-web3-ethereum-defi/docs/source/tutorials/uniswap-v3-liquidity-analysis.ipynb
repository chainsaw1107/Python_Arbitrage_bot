{
 "cells": [
  {
   "cell_type": "markdown",
   "metadata": {},
   "source": [
    "# Uniswap v3 liquidity analysis\n",
    "\n",
    "In this notebook we will show how to download liquidity events from Uniswap V3 to your computer as CSV files and use them to construct and analyse liquidity in each pool.\n",
    "\n",
    "* For more background information, see [this blog post about the topic](https://tradingstrategy.ai/blog/uniswap-data-research-with-jupyter-and-python)\n",
    "\n",
    "* You need to understand [Jupyter Notebook and Pandas basics](https://jakevdp.github.io/PythonDataScienceHandbook/)\n",
    "\n",
    "* You need to understand [Ethereum](https://github.com/ethereumbook/ethereumbook) and [Web3.py basics](https://web3py.readthedocs.io/)\n",
    "\n",
    "* You will need to have [Ethereum API node and its JSON-RPC URL](https://ethereumnodes.com/) in order to pull out the data from Ethereum blockchain. The notebook will interactively ask you for your API key.\n",
    "\n",
    "* You can click *Launch binder* button on this documentation page to automatically open this notebook to be run in\n",
    "  [Binder cloud notebook service](https://mybinder.org/). Note that we recommend to run the notebook\n",
    "  on your local computer, as generated CSV needs are large and take long time to generate."
   ]
  },
  {
   "cell_type": "markdown",
   "metadata": {},
   "source": [
    "### Download the raw data from Ethereum blockchain\n",
    "\n",
    "For simplicity, you can sign up for free access to an Ethereum node for example at [Infura](https://infura.io/), however we recommend you to [run your own Ethereum node](https://tradingstrategy.ai/blog/preparing-a-server-for-hosting-goethereum-full-node)"
   ]
  },
  {
   "cell_type": "code",
   "execution_count": 1,
   "metadata": {},
   "outputs": [],
   "source": [
    "from web3 import Web3, HTTPProvider\n",
    "\n",
    "# Get your node JSON-RPC URL\n",
    "json_rpc_url = input(\"Please enter your Ethereum mainnet JSON-RPC URL here\")\n",
    "web3 = Web3(HTTPProvider(json_rpc_url))"
   ]
  },
  {
   "cell_type": "markdown",
   "metadata": {},
   "source": [
    "As an example, here we download raw liquidity events from first 100000 blocks after Uniswap V3 factory is created, the events will be stored in several CSV files at `/tmp` folder.\n",
    "\n",
    "Depends on your internet connection and latency to the Ethereum node, the scan might take hours. However it can resume in case there is a crash, as we save the last scanned block in a JSON state file."
   ]
  },
  {
   "cell_type": "code",
   "execution_count": 39,
   "metadata": {},
   "outputs": [
    {
     "name": "stdout",
     "output_type": "stream",
     "text": [
      "No previous scan done, starting fresh from block 12,369,621, total 100,000 blocks\n",
      "Scanning block range 12,369,621 - 12,469,621\n"
     ]
    },
    {
     "data": {
      "application/vnd.jupyter.widget-view+json": {
       "model_id": "4704b8d5743145c4be01348d056a6ae6",
       "version_major": 2,
       "version_minor": 0
      },
      "text/plain": [
       "  0%|          | 0/100000 [00:00<?, ?it/s]"
      ]
     },
     "metadata": {},
     "output_type": "display_data"
    },
    {
     "name": "stdout",
     "output_type": "stream",
     "text": [
      "Wrote 1113 PoolCreated events\n",
      "Wrote 461356 Swap events\n",
      "Wrote 20791 Mint events\n",
      "Wrote 9791 Burn events\n"
     ]
    }
   ],
   "source": [
    "from eth_defi.uniswap_v3.constants import UNISWAP_V3_FACTORY_CREATED_AT_BLOCK\n",
    "from eth_defi.uniswap_v3.events import fetch_events_to_csv\n",
    "from eth_defi.event_reader.json_state import JSONFileScanState\n",
    "\n",
    "start_block = UNISWAP_V3_FACTORY_CREATED_AT_BLOCK\n",
    "end_block = UNISWAP_V3_FACTORY_CREATED_AT_BLOCK + 100_000\n",
    "\n",
    "# Stores the last block number of event data we store\n",
    "state = JSONFileScanState(\"/tmp/uniswap-v3-liquidity-scan.json\")\n",
    "\n",
    "fetch_events_to_csv(json_rpc_url, state, start_block=start_block, end_block=end_block)"
   ]
  },
  {
   "cell_type": "markdown",
   "metadata": {},
   "source": [
    "### Construct intermediate data\n",
    "\n",
    "A single raw liquidity event only tells us what happened to specific ticks in a specific pool. To be able to know how much liquidity is in each tick, we first need to construct intermediate data (we call them tick delta events) based on mint and burn events "
   ]
  },
  {
   "cell_type": "code",
   "execution_count": 40,
   "metadata": {},
   "outputs": [],
   "source": [
    "from eth_defi.uniswap_v3.liquidity import create_tick_delta_csv\n",
    "\n",
    "tick_delta_csv = create_tick_delta_csv(\"/tmp/uniswap-v3-mint.csv\", \"/tmp/uniswap-v3-burn.csv\")"
   ]
  },
  {
   "cell_type": "markdown",
   "metadata": {},
   "source": [
    "Then we can use these delta events to aggregate into each tick liquidity "
   ]
  },
  {
   "cell_type": "code",
   "execution_count": 41,
   "metadata": {},
   "outputs": [],
   "source": [
    "from eth_defi.uniswap_v3.liquidity import create_tick_csv\n",
    "\n",
    "tick_csv = create_tick_csv(tick_delta_csv)"
   ]
  },
  {
   "cell_type": "markdown",
   "metadata": {},
   "source": [
    "Create a dataframe we can use for further analysis"
   ]
  },
  {
   "cell_type": "code",
   "execution_count": 42,
   "metadata": {},
   "outputs": [
    {
     "data": {
      "text/html": [
       "<div>\n",
       "<style scoped>\n",
       "    .dataframe tbody tr th:only-of-type {\n",
       "        vertical-align: middle;\n",
       "    }\n",
       "\n",
       "    .dataframe tbody tr th {\n",
       "        vertical-align: top;\n",
       "    }\n",
       "\n",
       "    .dataframe thead th {\n",
       "        text-align: right;\n",
       "    }\n",
       "</style>\n",
       "<table border=\"1\" class=\"dataframe\">\n",
       "  <thead>\n",
       "    <tr style=\"text-align: right;\">\n",
       "      <th></th>\n",
       "      <th>Unnamed: 0</th>\n",
       "      <th>pool_contract_address</th>\n",
       "      <th>tick_id</th>\n",
       "      <th>liquidity_gross_delta</th>\n",
       "      <th>liquidity_net_delta</th>\n",
       "    </tr>\n",
       "  </thead>\n",
       "  <tbody>\n",
       "    <tr>\n",
       "      <th>0</th>\n",
       "      <td>0</td>\n",
       "      <td>0x000ea4a83acefdd62b1b43e9ccc281f442651520</td>\n",
       "      <td>-82140</td>\n",
       "      <td>2060173899059917749827</td>\n",
       "      <td>2060173899059917749827</td>\n",
       "    </tr>\n",
       "    <tr>\n",
       "      <th>1</th>\n",
       "      <td>1</td>\n",
       "      <td>0x000ea4a83acefdd62b1b43e9ccc281f442651520</td>\n",
       "      <td>-82080</td>\n",
       "      <td>5508168315607950206</td>\n",
       "      <td>5508168315607950206</td>\n",
       "    </tr>\n",
       "    <tr>\n",
       "      <th>2</th>\n",
       "      <td>2</td>\n",
       "      <td>0x000ea4a83acefdd62b1b43e9ccc281f442651520</td>\n",
       "      <td>-82020</td>\n",
       "      <td>2060173899059917749827</td>\n",
       "      <td>-2060173899059917749827</td>\n",
       "    </tr>\n",
       "    <tr>\n",
       "      <th>3</th>\n",
       "      <td>3</td>\n",
       "      <td>0x000ea4a83acefdd62b1b43e9ccc281f442651520</td>\n",
       "      <td>-81960</td>\n",
       "      <td>5508168315607950206</td>\n",
       "      <td>-5508168315607950206</td>\n",
       "    </tr>\n",
       "    <tr>\n",
       "      <th>4</th>\n",
       "      <td>4</td>\n",
       "      <td>0x00323a300261042dd5d697e3f92a06279cc7d15b</td>\n",
       "      <td>62150</td>\n",
       "      <td>81896317601094011387162</td>\n",
       "      <td>81896317601094011387162</td>\n",
       "    </tr>\n",
       "    <tr>\n",
       "      <th>...</th>\n",
       "      <td>...</td>\n",
       "      <td>...</td>\n",
       "      <td>...</td>\n",
       "      <td>...</td>\n",
       "      <td>...</td>\n",
       "    </tr>\n",
       "    <tr>\n",
       "      <th>13645</th>\n",
       "      <td>13645</td>\n",
       "      <td>0xff90fb880da9738b2044b243daf8172bfe413b5c</td>\n",
       "      <td>-123120</td>\n",
       "      <td>0</td>\n",
       "      <td>0</td>\n",
       "    </tr>\n",
       "    <tr>\n",
       "      <th>13646</th>\n",
       "      <td>13646</td>\n",
       "      <td>0xff90fb880da9738b2044b243daf8172bfe413b5c</td>\n",
       "      <td>-122040</td>\n",
       "      <td>349127115575225137449</td>\n",
       "      <td>349127115575225137449</td>\n",
       "    </tr>\n",
       "    <tr>\n",
       "      <th>13647</th>\n",
       "      <td>13647</td>\n",
       "      <td>0xff90fb880da9738b2044b243daf8172bfe413b5c</td>\n",
       "      <td>-115140</td>\n",
       "      <td>0</td>\n",
       "      <td>0</td>\n",
       "    </tr>\n",
       "    <tr>\n",
       "      <th>13648</th>\n",
       "      <td>13648</td>\n",
       "      <td>0xff90fb880da9738b2044b243daf8172bfe413b5c</td>\n",
       "      <td>-111060</td>\n",
       "      <td>349127115575225137449</td>\n",
       "      <td>-349127115575225137449</td>\n",
       "    </tr>\n",
       "    <tr>\n",
       "      <th>13649</th>\n",
       "      <td>13649</td>\n",
       "      <td>0xff90fb880da9738b2044b243daf8172bfe413b5c</td>\n",
       "      <td>0</td>\n",
       "      <td>3965269664593024571814</td>\n",
       "      <td>-3965269664593024571814</td>\n",
       "    </tr>\n",
       "  </tbody>\n",
       "</table>\n",
       "<p>13650 rows × 5 columns</p>\n",
       "</div>"
      ],
      "text/plain": [
       "       Unnamed: 0                       pool_contract_address  tick_id  \\\n",
       "0               0  0x000ea4a83acefdd62b1b43e9ccc281f442651520   -82140   \n",
       "1               1  0x000ea4a83acefdd62b1b43e9ccc281f442651520   -82080   \n",
       "2               2  0x000ea4a83acefdd62b1b43e9ccc281f442651520   -82020   \n",
       "3               3  0x000ea4a83acefdd62b1b43e9ccc281f442651520   -81960   \n",
       "4               4  0x00323a300261042dd5d697e3f92a06279cc7d15b    62150   \n",
       "...           ...                                         ...      ...   \n",
       "13645       13645  0xff90fb880da9738b2044b243daf8172bfe413b5c  -123120   \n",
       "13646       13646  0xff90fb880da9738b2044b243daf8172bfe413b5c  -122040   \n",
       "13647       13647  0xff90fb880da9738b2044b243daf8172bfe413b5c  -115140   \n",
       "13648       13648  0xff90fb880da9738b2044b243daf8172bfe413b5c  -111060   \n",
       "13649       13649  0xff90fb880da9738b2044b243daf8172bfe413b5c        0   \n",
       "\n",
       "         liquidity_gross_delta      liquidity_net_delta  \n",
       "0       2060173899059917749827   2060173899059917749827  \n",
       "1          5508168315607950206      5508168315607950206  \n",
       "2       2060173899059917749827  -2060173899059917749827  \n",
       "3          5508168315607950206     -5508168315607950206  \n",
       "4      81896317601094011387162  81896317601094011387162  \n",
       "...                        ...                      ...  \n",
       "13645                        0                        0  \n",
       "13646    349127115575225137449    349127115575225137449  \n",
       "13647                        0                        0  \n",
       "13648    349127115575225137449   -349127115575225137449  \n",
       "13649   3965269664593024571814  -3965269664593024571814  \n",
       "\n",
       "[13650 rows x 5 columns]"
      ]
     },
     "execution_count": 42,
     "metadata": {},
     "output_type": "execute_result"
    }
   ],
   "source": [
    "import pandas as pd\n",
    "\n",
    "tick_df = pd.read_csv(tick_csv)\n",
    "tick_df"
   ]
  },
  {
   "cell_type": "markdown",
   "metadata": {},
   "source": [
    "### Liquidity analysis example\n",
    "\n",
    "Choose a random pool from the tick dataframe, for example: UNI/ETH 0.3%"
   ]
  },
  {
   "cell_type": "code",
   "execution_count": 43,
   "metadata": {},
   "outputs": [],
   "source": [
    "pool_address = \"0x1d42064fc4beb5f8aaf85f4617ae8b3b5b8bd801\""
   ]
  },
  {
   "cell_type": "markdown",
   "metadata": {},
   "source": [
    "Extract only the ticks relate to the pool we chose from the dataframe"
   ]
  },
  {
   "cell_type": "code",
   "execution_count": 44,
   "metadata": {},
   "outputs": [
    {
     "data": {
      "text/html": [
       "<div>\n",
       "<style scoped>\n",
       "    .dataframe tbody tr th:only-of-type {\n",
       "        vertical-align: middle;\n",
       "    }\n",
       "\n",
       "    .dataframe tbody tr th {\n",
       "        vertical-align: top;\n",
       "    }\n",
       "\n",
       "    .dataframe thead th {\n",
       "        text-align: right;\n",
       "    }\n",
       "</style>\n",
       "<table border=\"1\" class=\"dataframe\">\n",
       "  <thead>\n",
       "    <tr style=\"text-align: right;\">\n",
       "      <th></th>\n",
       "      <th>Unnamed: 0</th>\n",
       "      <th>pool_contract_address</th>\n",
       "      <th>tick_id</th>\n",
       "      <th>liquidity_gross_delta</th>\n",
       "      <th>liquidity_net_delta</th>\n",
       "    </tr>\n",
       "    <tr>\n",
       "      <th>tick_id</th>\n",
       "      <th></th>\n",
       "      <th></th>\n",
       "      <th></th>\n",
       "      <th></th>\n",
       "      <th></th>\n",
       "    </tr>\n",
       "  </thead>\n",
       "  <tbody>\n",
       "    <tr>\n",
       "      <th>-345420</th>\n",
       "      <td>1352</td>\n",
       "      <td>0x1d42064fc4beb5f8aaf85f4617ae8b3b5b8bd801</td>\n",
       "      <td>-345420</td>\n",
       "      <td>0</td>\n",
       "      <td>0</td>\n",
       "    </tr>\n",
       "    <tr>\n",
       "      <th>-253260</th>\n",
       "      <td>1353</td>\n",
       "      <td>0x1d42064fc4beb5f8aaf85f4617ae8b3b5b8bd801</td>\n",
       "      <td>-253260</td>\n",
       "      <td>9540245628022539790</td>\n",
       "      <td>9540245628022539790</td>\n",
       "    </tr>\n",
       "    <tr>\n",
       "      <th>-242640</th>\n",
       "      <td>1354</td>\n",
       "      <td>0x1d42064fc4beb5f8aaf85f4617ae8b3b5b8bd801</td>\n",
       "      <td>-242640</td>\n",
       "      <td>2032338076661281779</td>\n",
       "      <td>2032338076661281779</td>\n",
       "    </tr>\n",
       "    <tr>\n",
       "      <th>-207240</th>\n",
       "      <td>1355</td>\n",
       "      <td>0x1d42064fc4beb5f8aaf85f4617ae8b3b5b8bd801</td>\n",
       "      <td>-207240</td>\n",
       "      <td>911269521453131094</td>\n",
       "      <td>911269521453131094</td>\n",
       "    </tr>\n",
       "    <tr>\n",
       "      <th>-206220</th>\n",
       "      <td>1356</td>\n",
       "      <td>0x1d42064fc4beb5f8aaf85f4617ae8b3b5b8bd801</td>\n",
       "      <td>-206220</td>\n",
       "      <td>1409245106840294</td>\n",
       "      <td>1409245106840294</td>\n",
       "    </tr>\n",
       "    <tr>\n",
       "      <th>...</th>\n",
       "      <td>...</td>\n",
       "      <td>...</td>\n",
       "      <td>...</td>\n",
       "      <td>...</td>\n",
       "      <td>...</td>\n",
       "    </tr>\n",
       "    <tr>\n",
       "      <th>99060</th>\n",
       "      <td>1881</td>\n",
       "      <td>0x1d42064fc4beb5f8aaf85f4617ae8b3b5b8bd801</td>\n",
       "      <td>99060</td>\n",
       "      <td>0</td>\n",
       "      <td>0</td>\n",
       "    </tr>\n",
       "    <tr>\n",
       "      <th>115140</th>\n",
       "      <td>1882</td>\n",
       "      <td>0x1d42064fc4beb5f8aaf85f4617ae8b3b5b8bd801</td>\n",
       "      <td>115140</td>\n",
       "      <td>1077028788640831727</td>\n",
       "      <td>-1077028788640831727</td>\n",
       "    </tr>\n",
       "    <tr>\n",
       "      <th>131220</th>\n",
       "      <td>1883</td>\n",
       "      <td>0x1d42064fc4beb5f8aaf85f4617ae8b3b5b8bd801</td>\n",
       "      <td>131220</td>\n",
       "      <td>10666729901899493</td>\n",
       "      <td>-10666729901899493</td>\n",
       "    </tr>\n",
       "    <tr>\n",
       "      <th>138180</th>\n",
       "      <td>1884</td>\n",
       "      <td>0x1d42064fc4beb5f8aaf85f4617ae8b3b5b8bd801</td>\n",
       "      <td>138180</td>\n",
       "      <td>16150860901245802582</td>\n",
       "      <td>-16150860901245802582</td>\n",
       "    </tr>\n",
       "    <tr>\n",
       "      <th>391440</th>\n",
       "      <td>1885</td>\n",
       "      <td>0x1d42064fc4beb5f8aaf85f4617ae8b3b5b8bd801</td>\n",
       "      <td>391440</td>\n",
       "      <td>9540245628022539790</td>\n",
       "      <td>-9540245628022539790</td>\n",
       "    </tr>\n",
       "  </tbody>\n",
       "</table>\n",
       "<p>534 rows × 5 columns</p>\n",
       "</div>"
      ],
      "text/plain": [
       "         Unnamed: 0                       pool_contract_address  tick_id  \\\n",
       "tick_id                                                                    \n",
       "-345420        1352  0x1d42064fc4beb5f8aaf85f4617ae8b3b5b8bd801  -345420   \n",
       "-253260        1353  0x1d42064fc4beb5f8aaf85f4617ae8b3b5b8bd801  -253260   \n",
       "-242640        1354  0x1d42064fc4beb5f8aaf85f4617ae8b3b5b8bd801  -242640   \n",
       "-207240        1355  0x1d42064fc4beb5f8aaf85f4617ae8b3b5b8bd801  -207240   \n",
       "-206220        1356  0x1d42064fc4beb5f8aaf85f4617ae8b3b5b8bd801  -206220   \n",
       "...             ...                                         ...      ...   \n",
       " 99060         1881  0x1d42064fc4beb5f8aaf85f4617ae8b3b5b8bd801    99060   \n",
       " 115140        1882  0x1d42064fc4beb5f8aaf85f4617ae8b3b5b8bd801   115140   \n",
       " 131220        1883  0x1d42064fc4beb5f8aaf85f4617ae8b3b5b8bd801   131220   \n",
       " 138180        1884  0x1d42064fc4beb5f8aaf85f4617ae8b3b5b8bd801   138180   \n",
       " 391440        1885  0x1d42064fc4beb5f8aaf85f4617ae8b3b5b8bd801   391440   \n",
       "\n",
       "        liquidity_gross_delta    liquidity_net_delta  \n",
       "tick_id                                               \n",
       "-345420                     0                      0  \n",
       "-253260   9540245628022539790    9540245628022539790  \n",
       "-242640   2032338076661281779    2032338076661281779  \n",
       "-207240    911269521453131094     911269521453131094  \n",
       "-206220      1409245106840294       1409245106840294  \n",
       "...                       ...                    ...  \n",
       " 99060                      0                      0  \n",
       " 115140   1077028788640831727   -1077028788640831727  \n",
       " 131220     10666729901899493     -10666729901899493  \n",
       " 138180  16150860901245802582  -16150860901245802582  \n",
       " 391440   9540245628022539790   -9540245628022539790  \n",
       "\n",
       "[534 rows x 5 columns]"
      ]
     },
     "execution_count": 44,
     "metadata": {},
     "output_type": "execute_result"
    }
   ],
   "source": [
    "df = tick_df[tick_df.pool_contract_address == pool_address].sort_values(by=\"tick_id\")\n",
    "df.index = df.tick_id\n",
    "\n",
    "df"
   ]
  },
  {
   "cell_type": "markdown",
   "metadata": {},
   "source": [
    "We then can plot the liquidity gross in this pool"
   ]
  },
  {
   "cell_type": "code",
   "execution_count": 45,
   "metadata": {},
   "outputs": [
    {
     "data": {
      "text/plain": [
       "<AxesSubplot:xlabel='tick_id'>"
      ]
     },
     "execution_count": 45,
     "metadata": {},
     "output_type": "execute_result"
    },
    {
     "data": {
      "image/png": "[encoded data removed]",
      "text/plain": [
       "<Figure size 1200x800 with 1 Axes>"
      ]
     },
     "metadata": {
      "needs_background": "light"
     },
     "output_type": "display_data"
    }
   ],
   "source": [
    "import matplotlib.pyplot as plt\n",
    "\n",
    "plt.rcParams[\"figure.dpi\"] = 200\n",
    "\n",
    "df[\"liquidity_gross_delta\"].astype(float).plot()"
   ]
  },
  {
   "cell_type": "markdown",
   "metadata": {},
   "source": [
    "### Compare the data with The Graph data\n",
    "\n",
    "One way to verify whether the data we construct is correct is to compare it with official [Uniswap V3 subgraph data](https://thegraph.com/hosted-service/subgraph/uniswap/uniswap-v3)  "
   ]
  },
  {
   "cell_type": "code",
   "execution_count": 46,
   "metadata": {},
   "outputs": [
    {
     "data": {
      "text/plain": [
       "12469604"
      ]
     },
     "execution_count": 46,
     "metadata": {},
     "output_type": "execute_result"
    }
   ],
   "source": [
    "tickdelta_df = pd.read_csv(tick_delta_csv)\n",
    "last_processed_block = tickdelta_df[tickdelta_df.pool_contract_address == pool_address].tail(1).block_number\n",
    "last_processed_block = int(last_processed_block.values[0])\n",
    "last_processed_block"
   ]
  },
  {
   "cell_type": "markdown",
   "metadata": {},
   "source": [
    "Get pool's state at the same last processed block"
   ]
  },
  {
   "cell_type": "code",
   "execution_count": 47,
   "metadata": {},
   "outputs": [],
   "source": [
    "from eth_defi.uniswap_v3.liquidity import get_pool_state_at_block\n",
    "\n",
    "pool_state = get_pool_state_at_block(pool_address, last_processed_block)\n",
    "ticks = pool_state[\"ticks\"]"
   ]
  },
  {
   "cell_type": "markdown",
   "metadata": {},
   "source": [
    "Then compare random ticks between our CSV data and the subgraph data"
   ]
  },
  {
   "cell_type": "code",
   "execution_count": 53,
   "metadata": {},
   "outputs": [],
   "source": [
    "import random\n",
    "\n",
    "# get some random ticks from subgraph\n",
    "for i in range(10):\n",
    "    random_tick = random.choice(ticks)\n",
    "\n",
    "    # get the same tick from dataframe\n",
    "    random_tick_df = df[df.tick_id == int(random_tick[\"tickIdx\"])]\n",
    "    \n",
    "    # compare data\n",
    "    assert int(random_tick_df.liquidity_gross_delta.values[0]) == int(random_tick[\"liquidityGross\"])\n",
    "    assert int(random_tick_df.liquidity_net_delta.values[0]) == int(random_tick[\"liquidityNet\"])"
   ]
  }
 ],
 "metadata": {
  "interpreter": {
   "hash": "9b6697946b59f1cda35d1a9d955611df8679c38ae8cee6d6fc35b656a9a31b3c"
  },
  "kernelspec": {
   "display_name": "Python 3.9.10 ('web3-ethereum-defi-0d8b7oDT-py3.9')",
   "language": "python",
   "name": "python3"
  },
  "language_info": {
   "codemirror_mode": {
    "name": "ipython",
    "version": 3
   },
   "file_extension": ".py",
   "mimetype": "text/x-python",
   "name": "python",
   "nbconvert_exporter": "python",
   "pygments_lexer": "ipython3",
   "version": "3.9.10"
  },
  "orig_nbformat": 4
 },
 "nbformat": 4,
 "nbformat_minor": 2
}
